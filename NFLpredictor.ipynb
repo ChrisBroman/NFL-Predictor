{
 "cells": [
  {
   "cell_type": "code",
   "execution_count": 1,
   "id": "c19e273c-ac5e-4d28-932a-63781d4de25f",
   "metadata": {},
   "outputs": [],
   "source": [
    "import numpy as np\n",
    "import pandas as pd\n",
    "from sklearn.linear_model import LogisticRegression\n",
    "from sklearn.preprocessing import StandardScaler\n",
    "from sklearn.model_selection import train_test_split\n",
    "import requests\n",
    "from bs4 import BeautifulSoup\n",
    "from sklearn.metrics import accuracy_score\n",
    "import matplotlib.pyplot as plt\n",
    "import seaborn as sns\n",
    "%matplotlib inline\n",
    "from tabulate import tabulate\n",
    "import warnings\n",
    "from sklearn import preprocessing\n",
    "from sklearn.preprocessing import OneHotEncoder"
   ]
  },
  {
   "cell_type": "code",
   "execution_count": 2,
   "id": "b8eefb0a-2774-4d1d-a2ba-a2dc632955d4",
   "metadata": {},
   "outputs": [],
   "source": [
    "def takeSecond(elem):\n",
    "    return elem[3]"
   ]
  },
  {
   "cell_type": "code",
   "execution_count": 3,
   "id": "4f493733-6684-421b-bfc6-653613ea9dfa",
   "metadata": {},
   "outputs": [],
   "source": [
    "warnings.filterwarnings('ignore')\n",
    "le = preprocessing.LabelEncoder()"
   ]
  },
  {
   "cell_type": "code",
   "execution_count": 4,
   "id": "fe6a619c-cbca-40e1-ac4f-19d2fe85fabc",
   "metadata": {},
   "outputs": [],
   "source": [
    "symbols = ['CRD', 'ATL', 'RAV', 'BUF', 'CAR', 'CHI', 'CIN', 'CLE', 'DAL', 'DEN', 'DET', 'GNB', 'HTX', 'CLT', 'JAX', 'KAN', 'RAI', 'SDG', 'RAM', 'MIA', 'MIN', 'NWE', 'NOR', 'NYG', 'NYJ', 'PHI', 'PIT', 'SFO', 'SEA', 'TAM', 'OTI', 'WAS']\n",
    "team_names = ['Arizona Cardinals', 'Atlanta Falcons', 'Baltimore Ravens', 'Buffalo Bills', 'Carolina Panthers', 'Chicago Bears', 'Cincinnati Bengals', 'Cleveland Browns', 'Dallas Cowboys', 'Denver Broncos', 'Detroit Lions', 'Green Bay Packers', 'Houston Texans', 'Indianapolis Colts', 'Jacksonville Jaguars', 'Kansas City Chiefs', 'Las Vegas Raiders', 'Los Angeles Chargers', 'Los Angeles Rams', 'Miami Dolphins', 'Minnesota Vikings', 'New England Patriots', 'New Orleans Saints', 'New York Giants', 'New York Jets', 'Philadelphia Eagles', 'Pittsburgh Steelers', 'San Francisco 49ers', 'Seattle Seahawks', 'Tampa Bay Buccaneers', 'Tennessee Titans', 'Washington Football Team']"
   ]
  },
  {
   "cell_type": "code",
   "execution_count": 5,
   "id": "e14f3247-4371-4858-bf3b-d3813ce9cbf0",
   "metadata": {},
   "outputs": [],
   "source": [
    "def get_new_data(team, year):\n",
    "    sym = symbols[team_names.index(team)].lower()\n",
    "    url = f'https://www.pro-football-reference.com/teams/{sym}/{year}.htm'\n",
    "    html = requests.get(url).text\n",
    "    soup = BeautifulSoup(html,'html.parser')\n",
    "    table = soup.find('table', id='games')\n",
    "    tablerows = table.find_all('tr')[2:]\n",
    "    data = []\n",
    "\n",
    "    for tablerow in tablerows:\n",
    "        data.append([tabledata.get_text(strip=True) for tabledata in tablerow.find_all('td')])\n",
    "\n",
    "    df = pd.DataFrame(data)\n",
    "    index = [0,1,4,8,9,10, 7] + list(range(11,21))\n",
    "    new_data = df.iloc[:,index].copy()\n",
    "    col_names = ['day', 'date', 'result', 'opponent', 'tm_score', 'opp_score','location', '1stD_offense', 'TotYd_offense', 'PassY_offense', 'RushY_offense', 'TO_offense', '1stD_defense', 'TotYd_defense', 'PassY_defense', 'RushY_defense', 'TO_defense']\n",
    "    new_data.columns = col_names\n",
    "    result_encoder = {'result': {'L': 0, 'T': 0,'W': 1,'' : pd.NA},\n",
    "                     'TO_offense' : {'' : 0},\n",
    "                     'TO_defense' : {'' : 0}},\n",
    "    location_encoder = {'location': {'@' : 0, '': 1}}\n",
    "    new_data.replace(location_encoder, inplace=True)\n",
    "    new_data.replace(result_encoder, inplace=True)\n",
    "    new_data = new_data[new_data.result.notnull()]\n",
    "    week = list(range(1,len(new_data)+1))\n",
    "    new_data.insert(0, 'week', week)\n",
    "    tn_col = pd.Series([f'{team}']).repeat(len(new_data)).reset_index(drop=True)\n",
    "    new_data.insert(0, 'team_name', tn_col)\n",
    "\n",
    "    if type(new_data) == pd.Series:\n",
    "        new_data = new_data.to_frame().T\n",
    "        return new_data.reset_index(drop=True)\n",
    "    else:\n",
    "        return new_data.reset_index(drop=True)"
   ]
  },
  {
   "cell_type": "code",
   "execution_count": 53,
   "id": "9c9fbd74-4eb5-4100-a60b-03dde421af28",
   "metadata": {},
   "outputs": [],
   "source": [
    "def home_or_away(team, week):\n",
    "    sym = symbols[team_names.index(team)].lower()\n",
    "    url = f'https://www.pro-football-reference.com/teams/{sym}/2022.htm'\n",
    "    html = requests.get(url).text\n",
    "    soup = BeautifulSoup(html, 'html.parser')\n",
    "    table = soup.find('table', id='games')\n",
    "    tablerows = table.find_all('tr')[2:]\n",
    "    data = []\n",
    "\n",
    "    for tablerow in tablerows:\n",
    "            data.append([tabledata.get_text(strip=True) for tabledata in tablerow.find_all('td')])\n",
    "\n",
    "    df = pd.DataFrame(data)\n",
    "    index = [0,1,4,8,9,10, 7] + list(range(11,21))\n",
    "    new_data = df.iloc[:,index].copy()\n",
    "    col_names = ['day', 'date', 'result', 'opponent', 'tm_score', 'opp_score','location', '1stD_offense', 'TotYd_offense', 'PassY_offense', 'RushY_offense', 'TO_offense', '1stD_defense', 'TotYd_defense', 'PassY_defense', 'RushY_defense', 'TO_defense']\n",
    "    new_data.columns = col_names\n",
    "    if df.iloc[week - 1][7] == '@':\n",
    "        return 0\n",
    "    else: \n",
    "        return 1"
   ]
  },
  {
   "cell_type": "code",
   "execution_count": 6,
   "id": "7758ebc1-245f-4c4e-8630-ebaa60550378",
   "metadata": {},
   "outputs": [],
   "source": [
    "nfl_dataframe_list = []\n",
    "years = [*range(2015, 2022)]\n",
    "for year in years:\n",
    "    for teamname in team_names:\n",
    "        nfl_dataframe_list.append(get_new_data(teamname, year))\n",
    "\n",
    "nfldata = pd.concat(nfl_dataframe_list)\n",
    "nfldata = nfldata[nfldata.opponent != 'Bye Week']\n",
    "nfldata = nfldata[nfldata.date != 'Playoffs']\n",
    "nfldata = nfldata[nfldata.location != 'N']\n",
    "to_offence_encoder = {'TO_offense': {'' : 0}}\n",
    "to_defence_encoder = {'TO_defense': {'' : 0}}\n",
    "result_encoder = {'result': {'L': 0, 'T': 0,'W': 1,'' : pd.NA}}\n",
    "nfldata.replace(to_offence_encoder, inplace=True)\n",
    "nfldata.replace(to_defence_encoder, inplace=True)\n",
    "nfldata.replace(result_encoder, inplace=True)"
   ]
  },
  {
   "cell_type": "code",
   "execution_count": 8,
   "id": "e96b1178-3815-4f6e-bf93-558ddf17c3c9",
   "metadata": {},
   "outputs": [
    {
     "data": {
      "text/plain": [
       "array([[ 1.        ,  0.93076638,  0.93062701, ...,  1.52121329,\n",
       "        -1.15775205, -0.29205689],\n",
       "       [-1.        ,  0.13163211, -0.57712166, ..., -0.13056387,\n",
       "        -0.06971193,  0.52648528],\n",
       "       [ 1.        ,  1.53011708,  1.15619571, ..., -2.36304394,\n",
       "        -0.18840722,  2.16356961],\n",
       "       ...,\n",
       "       [-1.        , -1.26685287, -1.08761924, ...,  1.97287111,\n",
       "        -0.08949448, -1.11059905],\n",
       "       [ 1.        ,  0.73098281, -0.43465722, ..., -0.311227  ,\n",
       "         0.108331  , -1.11059905],\n",
       "       [-1.        , -0.86728573, -0.28032074, ..., -1.97590867,\n",
       "        -0.36645015,  1.34502744]])"
      ]
     },
     "execution_count": 8,
     "metadata": {},
     "output_type": "execute_result"
    }
   ],
   "source": [
    "features = nfldata.iloc[:,8:]\n",
    "scaler = StandardScaler()\n",
    "scaler.fit(features)\n",
    "scaler.transform(features)"
   ]
  },
  {
   "cell_type": "code",
   "execution_count": 9,
   "id": "39452973-c878-4c3f-b022-c02fc3b1d900",
   "metadata": {},
   "outputs": [],
   "source": [
    "y = nfldata['result']\n",
    "X_train, X_test, y_train, y_test = train_test_split(features, y, test_size=0.5, random_state=42)"
   ]
  },
  {
   "cell_type": "code",
   "execution_count": 10,
   "id": "aef4b99d-4f55-40de-b8ad-ef36f67aaa87",
   "metadata": {},
   "outputs": [
    {
     "data": {
      "text/html": [
       "<style>#sk-container-id-1 {color: black;background-color: white;}#sk-container-id-1 pre{padding: 0;}#sk-container-id-1 div.sk-toggleable {background-color: white;}#sk-container-id-1 label.sk-toggleable__label {cursor: pointer;display: block;width: 100%;margin-bottom: 0;padding: 0.3em;box-sizing: border-box;text-align: center;}#sk-container-id-1 label.sk-toggleable__label-arrow:before {content: \"▸\";float: left;margin-right: 0.25em;color: #696969;}#sk-container-id-1 label.sk-toggleable__label-arrow:hover:before {color: black;}#sk-container-id-1 div.sk-estimator:hover label.sk-toggleable__label-arrow:before {color: black;}#sk-container-id-1 div.sk-toggleable__content {max-height: 0;max-width: 0;overflow: hidden;text-align: left;background-color: #f0f8ff;}#sk-container-id-1 div.sk-toggleable__content pre {margin: 0.2em;color: black;border-radius: 0.25em;background-color: #f0f8ff;}#sk-container-id-1 input.sk-toggleable__control:checked~div.sk-toggleable__content {max-height: 200px;max-width: 100%;overflow: auto;}#sk-container-id-1 input.sk-toggleable__control:checked~label.sk-toggleable__label-arrow:before {content: \"▾\";}#sk-container-id-1 div.sk-estimator input.sk-toggleable__control:checked~label.sk-toggleable__label {background-color: #d4ebff;}#sk-container-id-1 div.sk-label input.sk-toggleable__control:checked~label.sk-toggleable__label {background-color: #d4ebff;}#sk-container-id-1 input.sk-hidden--visually {border: 0;clip: rect(1px 1px 1px 1px);clip: rect(1px, 1px, 1px, 1px);height: 1px;margin: -1px;overflow: hidden;padding: 0;position: absolute;width: 1px;}#sk-container-id-1 div.sk-estimator {font-family: monospace;background-color: #f0f8ff;border: 1px dotted black;border-radius: 0.25em;box-sizing: border-box;margin-bottom: 0.5em;}#sk-container-id-1 div.sk-estimator:hover {background-color: #d4ebff;}#sk-container-id-1 div.sk-parallel-item::after {content: \"\";width: 100%;border-bottom: 1px solid gray;flex-grow: 1;}#sk-container-id-1 div.sk-label:hover label.sk-toggleable__label {background-color: #d4ebff;}#sk-container-id-1 div.sk-serial::before {content: \"\";position: absolute;border-left: 1px solid gray;box-sizing: border-box;top: 0;bottom: 0;left: 50%;z-index: 0;}#sk-container-id-1 div.sk-serial {display: flex;flex-direction: column;align-items: center;background-color: white;padding-right: 0.2em;padding-left: 0.2em;position: relative;}#sk-container-id-1 div.sk-item {position: relative;z-index: 1;}#sk-container-id-1 div.sk-parallel {display: flex;align-items: stretch;justify-content: center;background-color: white;position: relative;}#sk-container-id-1 div.sk-item::before, #sk-container-id-1 div.sk-parallel-item::before {content: \"\";position: absolute;border-left: 1px solid gray;box-sizing: border-box;top: 0;bottom: 0;left: 50%;z-index: -1;}#sk-container-id-1 div.sk-parallel-item {display: flex;flex-direction: column;z-index: 1;position: relative;background-color: white;}#sk-container-id-1 div.sk-parallel-item:first-child::after {align-self: flex-end;width: 50%;}#sk-container-id-1 div.sk-parallel-item:last-child::after {align-self: flex-start;width: 50%;}#sk-container-id-1 div.sk-parallel-item:only-child::after {width: 0;}#sk-container-id-1 div.sk-dashed-wrapped {border: 1px dashed gray;margin: 0 0.4em 0.5em 0.4em;box-sizing: border-box;padding-bottom: 0.4em;background-color: white;}#sk-container-id-1 div.sk-label label {font-family: monospace;font-weight: bold;display: inline-block;line-height: 1.2em;}#sk-container-id-1 div.sk-label-container {text-align: center;}#sk-container-id-1 div.sk-container {/* jupyter's `normalize.less` sets `[hidden] { display: none; }` but bootstrap.min.css set `[hidden] { display: none !important; }` so we also need the `!important` here to be able to override the default hidden behavior on the sphinx rendered scikit-learn.org. See: https://github.com/scikit-learn/scikit-learn/issues/21755 */display: inline-block !important;position: relative;}#sk-container-id-1 div.sk-text-repr-fallback {display: none;}</style><div id=\"sk-container-id-1\" class=\"sk-top-container\"><div class=\"sk-text-repr-fallback\"><pre>LogisticRegression(max_iter=1000)</pre><b>In a Jupyter environment, please rerun this cell to show the HTML representation or trust the notebook. <br />On GitHub, the HTML representation is unable to render, please try loading this page with nbviewer.org.</b></div><div class=\"sk-container\" hidden><div class=\"sk-item\"><div class=\"sk-estimator sk-toggleable\"><input class=\"sk-toggleable__control sk-hidden--visually\" id=\"sk-estimator-id-1\" type=\"checkbox\" checked><label for=\"sk-estimator-id-1\" class=\"sk-toggleable__label sk-toggleable__label-arrow\">LogisticRegression</label><div class=\"sk-toggleable__content\"><pre>LogisticRegression(max_iter=1000)</pre></div></div></div></div></div>"
      ],
      "text/plain": [
       "LogisticRegression(max_iter=1000)"
      ]
     },
     "execution_count": 10,
     "metadata": {},
     "output_type": "execute_result"
    }
   ],
   "source": [
    "lrc = LogisticRegression(max_iter=1000)\n",
    "lrc.fit(X_train, y_train)"
   ]
  },
  {
   "cell_type": "code",
   "execution_count": 11,
   "id": "275b4256-2625-43f7-b22d-3f6f93149f41",
   "metadata": {},
   "outputs": [
    {
     "data": {
      "text/plain": [
       "0.8177470775770457"
      ]
     },
     "execution_count": 11,
     "metadata": {},
     "output_type": "execute_result"
    }
   ],
   "source": [
    "y_pred = lrc.predict(X_test)\n",
    "accuracy_score(y_test, y_pred)"
   ]
  },
  {
   "cell_type": "code",
   "execution_count": 60,
   "id": "c3d9bbe7-3a01-4084-a4a9-dea9758d8db3",
   "metadata": {},
   "outputs": [
    {
     "name": "stdout",
     "output_type": "stream",
     "text": [
      "\n",
      "Highest Accuracy: 81.7 | penalty = l1, C = 1.0\n"
     ]
    }
   ],
   "source": [
    "penalties = ['l1', 'l2']\n",
    "C = [0.001, 0.01, 0.1, 1.0, 10.0, 1000.0, 10000.0]\n",
    "\n",
    "max_accuracy = float(0)\n",
    "optimal_penalty = ''\n",
    "optimal_c = ''\n",
    "for penalty in penalties:\n",
    "    for c in C:\n",
    "        lrc_tuned = LogisticRegression(penalty=penalty, C=c, solver='liblinear', max_iter=1000)\n",
    "        lrc_tuned.fit(X_train, y_train)\n",
    "        y_pred = lrc_tuned.predict(X_test)\n",
    "        accuracy = accuracy_score(y_test, y_pred)\n",
    "        accuracy_rd = round(accuracy*100,1)\n",
    "        if accuracy_rd > max_accuracy:\n",
    "            max_accuracy = accuracy_rd\n",
    "            optimal_c = c\n",
    "            optimal_penalty = penalty\n",
    "        \n",
    "print(f'\\nHighest Accuracy: {max_accuracy} | penalty = {optimal_penalty}, C = {optimal_c}')"
   ]
  },
  {
   "cell_type": "code",
   "execution_count": 59,
   "id": "a2d9e3a9-178c-4187-8b0b-f0797166f427",
   "metadata": {},
   "outputs": [
    {
     "name": "stdout",
     "output_type": "stream",
     "text": [
      "\n",
      "Highest Accuracy: 82.1% | test size = 0.29\n"
     ]
    }
   ],
   "source": [
    "penalty = 'l1'\n",
    "C = 1.0\n",
    "\n",
    "test_sizes = [val/100 for val in range(20,36)]\n",
    "max_accuracy = 0\n",
    "optimal_test_size = 0\n",
    "\n",
    "for test_size in test_sizes:\n",
    "    X_train, X_test, y_train, y_test = train_test_split(features, y, test_size=test_size, random_state=42)\n",
    "    lrc_tts = LogisticRegression(penalty = penalty, C = C, solver='liblinear', max_iter=1000)\n",
    "    lrc_tts.fit(X_train, y_train)\n",
    "    y_pred = lrc_tts.predict(X_test)\n",
    "    accuracy = accuracy_score(y_test, y_pred)\n",
    "    accuracy_rd = round(accuracy*100,1)\n",
    "    if accuracy_rd > max_accuracy:\n",
    "        max_accuracy = accuracy_rd\n",
    "        optimal_test_size = test_size\n",
    "    \n",
    "print(f'\\nHighest Accuracy: {max_accuracy}% | test size = {optimal_test_size}')"
   ]
  },
  {
   "cell_type": "code",
   "execution_count": 16,
   "id": "aa59acc6-192f-4306-a34b-b34bac725764",
   "metadata": {},
   "outputs": [
    {
     "data": {
      "text/html": [
       "<style>#sk-container-id-2 {color: black;background-color: white;}#sk-container-id-2 pre{padding: 0;}#sk-container-id-2 div.sk-toggleable {background-color: white;}#sk-container-id-2 label.sk-toggleable__label {cursor: pointer;display: block;width: 100%;margin-bottom: 0;padding: 0.3em;box-sizing: border-box;text-align: center;}#sk-container-id-2 label.sk-toggleable__label-arrow:before {content: \"▸\";float: left;margin-right: 0.25em;color: #696969;}#sk-container-id-2 label.sk-toggleable__label-arrow:hover:before {color: black;}#sk-container-id-2 div.sk-estimator:hover label.sk-toggleable__label-arrow:before {color: black;}#sk-container-id-2 div.sk-toggleable__content {max-height: 0;max-width: 0;overflow: hidden;text-align: left;background-color: #f0f8ff;}#sk-container-id-2 div.sk-toggleable__content pre {margin: 0.2em;color: black;border-radius: 0.25em;background-color: #f0f8ff;}#sk-container-id-2 input.sk-toggleable__control:checked~div.sk-toggleable__content {max-height: 200px;max-width: 100%;overflow: auto;}#sk-container-id-2 input.sk-toggleable__control:checked~label.sk-toggleable__label-arrow:before {content: \"▾\";}#sk-container-id-2 div.sk-estimator input.sk-toggleable__control:checked~label.sk-toggleable__label {background-color: #d4ebff;}#sk-container-id-2 div.sk-label input.sk-toggleable__control:checked~label.sk-toggleable__label {background-color: #d4ebff;}#sk-container-id-2 input.sk-hidden--visually {border: 0;clip: rect(1px 1px 1px 1px);clip: rect(1px, 1px, 1px, 1px);height: 1px;margin: -1px;overflow: hidden;padding: 0;position: absolute;width: 1px;}#sk-container-id-2 div.sk-estimator {font-family: monospace;background-color: #f0f8ff;border: 1px dotted black;border-radius: 0.25em;box-sizing: border-box;margin-bottom: 0.5em;}#sk-container-id-2 div.sk-estimator:hover {background-color: #d4ebff;}#sk-container-id-2 div.sk-parallel-item::after {content: \"\";width: 100%;border-bottom: 1px solid gray;flex-grow: 1;}#sk-container-id-2 div.sk-label:hover label.sk-toggleable__label {background-color: #d4ebff;}#sk-container-id-2 div.sk-serial::before {content: \"\";position: absolute;border-left: 1px solid gray;box-sizing: border-box;top: 0;bottom: 0;left: 50%;z-index: 0;}#sk-container-id-2 div.sk-serial {display: flex;flex-direction: column;align-items: center;background-color: white;padding-right: 0.2em;padding-left: 0.2em;position: relative;}#sk-container-id-2 div.sk-item {position: relative;z-index: 1;}#sk-container-id-2 div.sk-parallel {display: flex;align-items: stretch;justify-content: center;background-color: white;position: relative;}#sk-container-id-2 div.sk-item::before, #sk-container-id-2 div.sk-parallel-item::before {content: \"\";position: absolute;border-left: 1px solid gray;box-sizing: border-box;top: 0;bottom: 0;left: 50%;z-index: -1;}#sk-container-id-2 div.sk-parallel-item {display: flex;flex-direction: column;z-index: 1;position: relative;background-color: white;}#sk-container-id-2 div.sk-parallel-item:first-child::after {align-self: flex-end;width: 50%;}#sk-container-id-2 div.sk-parallel-item:last-child::after {align-self: flex-start;width: 50%;}#sk-container-id-2 div.sk-parallel-item:only-child::after {width: 0;}#sk-container-id-2 div.sk-dashed-wrapped {border: 1px dashed gray;margin: 0 0.4em 0.5em 0.4em;box-sizing: border-box;padding-bottom: 0.4em;background-color: white;}#sk-container-id-2 div.sk-label label {font-family: monospace;font-weight: bold;display: inline-block;line-height: 1.2em;}#sk-container-id-2 div.sk-label-container {text-align: center;}#sk-container-id-2 div.sk-container {/* jupyter's `normalize.less` sets `[hidden] { display: none; }` but bootstrap.min.css set `[hidden] { display: none !important; }` so we also need the `!important` here to be able to override the default hidden behavior on the sphinx rendered scikit-learn.org. See: https://github.com/scikit-learn/scikit-learn/issues/21755 */display: inline-block !important;position: relative;}#sk-container-id-2 div.sk-text-repr-fallback {display: none;}</style><div id=\"sk-container-id-2\" class=\"sk-top-container\"><div class=\"sk-text-repr-fallback\"><pre>LogisticRegression(max_iter=1000, penalty=&#x27;l1&#x27;, solver=&#x27;liblinear&#x27;)</pre><b>In a Jupyter environment, please rerun this cell to show the HTML representation or trust the notebook. <br />On GitHub, the HTML representation is unable to render, please try loading this page with nbviewer.org.</b></div><div class=\"sk-container\" hidden><div class=\"sk-item\"><div class=\"sk-estimator sk-toggleable\"><input class=\"sk-toggleable__control sk-hidden--visually\" id=\"sk-estimator-id-2\" type=\"checkbox\" checked><label for=\"sk-estimator-id-2\" class=\"sk-toggleable__label sk-toggleable__label-arrow\">LogisticRegression</label><div class=\"sk-toggleable__content\"><pre>LogisticRegression(max_iter=1000, penalty=&#x27;l1&#x27;, solver=&#x27;liblinear&#x27;)</pre></div></div></div></div></div>"
      ],
      "text/plain": [
       "LogisticRegression(max_iter=1000, penalty='l1', solver='liblinear')"
      ]
     },
     "execution_count": 16,
     "metadata": {},
     "output_type": "execute_result"
    }
   ],
   "source": [
    "test_size = 0.29\n",
    "penalty = 'l1'\n",
    "C = 1.0\n",
    "\n",
    "X_train, X_test, y_train, y_test = train_test_split(features, y, test_size=test_size, random_state=42)\n",
    "optLr = LogisticRegression(penalty = penalty, C = C, solver='liblinear', max_iter=1000)\n",
    "optLr.fit(X_train, y_train)"
   ]
  },
  {
   "cell_type": "code",
   "execution_count": 50,
   "id": "0feea0aa-2f99-4e8a-9c0c-a613fc418716",
   "metadata": {},
   "outputs": [],
   "source": [
    "def predict(team, week):\n",
    "    \n",
    "    data = get_new_data(team, 2022)\n",
    "    columns = list(data.columns[8:])\n",
    "    for column in columns:\n",
    "        data[column] = pd.to_numeric(data[column])\n",
    "    home = home_or_away(team, week)\n",
    "    stats = []\n",
    "    for column in data.columns[8:]:\n",
    "        stats.append(int(data[column].mean().round()))    \n",
    "\n",
    "    new_data = pd.DataFrame([stats], columns=columns)\n",
    "    new_data['location'].iloc[0] = home\n",
    "    new_X = new_data.loc[:,features.columns]\n",
    "    new_X_sc = scaler.transform(new_X)\n",
    "    prediction = optLr.predict(new_X_sc)\n",
    "    prob = optLr.predict_proba(new_X_sc)\n",
    "\n",
    "    return prediction, prob"
   ]
  },
  {
   "cell_type": "code",
   "execution_count": 58,
   "id": "65fb85aa-3553-4345-bac5-caaa9d7315d7",
   "metadata": {},
   "outputs": [
    {
     "name": "stdin",
     "output_type": "stream",
     "text": [
      "Week:  7\n"
     ]
    },
    {
     "name": "stdout",
     "output_type": "stream",
     "text": [
      "Team                        Prediction    Prob of Win    Prob of Loss\n",
      "------------------------  ------------  -------------  --------------\n",
      "Buffalo Bills                 1.000000       0.768514        0.231486\n",
      "Philadelphia Eagles           1.000000       0.767308        0.232692\n",
      "Denver Broncos                1.000000       0.764841        0.235159\n",
      "Arizona Cardinals             1.000000       0.763457        0.236543\n",
      "Los Angeles Chargers          1.000000       0.763150        0.236850\n",
      "Los Angeles Rams              1.000000       0.762861        0.237139\n",
      "Seattle Seahawks              1.000000       0.611807        0.388193\n",
      "San Francisco 49ers           1.000000       0.591717        0.408283\n",
      "Jacksonville Jaguars          1.000000       0.588992        0.411008\n",
      "New England Patriots          1.000000       0.587663        0.412337\n",
      "Baltimore Ravens              1.000000       0.587456        0.412544\n",
      "Dallas Cowboys                1.000000       0.586178        0.413822\n",
      "Miami Dolphins                1.000000       0.584990        0.415010\n",
      "Cincinnati Bengals            1.000000       0.584714        0.415286\n",
      "Washington Football Team      1.000000       0.583484        0.416516\n",
      "Minnesota Vikings             1.000000       0.583478        0.416522\n",
      "Tennessee Titans              1.000000       0.581954        0.418046\n",
      "Carolina Panthers             1.000000       0.580643        0.419357\n",
      "New York Jets                 0.000000       0.415063        0.584937\n",
      "Atlanta Falcons               0.000000       0.413655        0.586345\n",
      "New York Giants               0.000000       0.413562        0.586438\n",
      "Tampa Bay Buccaneers          0.000000       0.413172        0.586828\n",
      "Indianapolis Colts            0.000000       0.412590        0.587410\n",
      "Chicago Bears                 0.000000       0.412062        0.587938\n",
      "Pittsburgh Steelers           0.000000       0.407846        0.592154\n",
      "Houston Texans                0.000000       0.405482        0.594518\n",
      "Las Vegas Raiders             0.000000       0.384190        0.615810\n",
      "Cleveland Browns              0.000000       0.238520        0.761480\n",
      "Green Bay Packers             0.000000       0.238064        0.761936\n",
      "Kansas City Chiefs            0.000000       0.237347        0.762653\n",
      "Detroit Lions                 0.000000       0.234490        0.765510\n",
      "New Orleans Saints            0.000000       0.121046        0.878954\n"
     ]
    }
   ],
   "source": [
    "predictions = []\n",
    "week = input(\"Week: \")\n",
    "for team in team_names:\n",
    "    output = []\n",
    "    prediction = predict(team, int(week))\n",
    "    output.append(team)\n",
    "    output.append(prediction[0])\n",
    "    output.append(prediction[1][0][1])\n",
    "    output.append(prediction[1][0][0])\n",
    "    predictions.append(output)   \n",
    "predictions.sort(key=takeSecond)\n",
    "headers = ['Team', 'Prediction', 'Prob of Win', 'Prob of Loss']\n",
    "print(tabulate(predictions, headers, tablefmt='simple', floatfmt=\".6f\"))"
   ]
  }
 ],
 "metadata": {
  "kernelspec": {
   "display_name": "Python 3 (ipykernel)",
   "language": "python",
   "name": "python3"
  },
  "language_info": {
   "codemirror_mode": {
    "name": "ipython",
    "version": 3
   },
   "file_extension": ".py",
   "mimetype": "text/x-python",
   "name": "python",
   "nbconvert_exporter": "python",
   "pygments_lexer": "ipython3",
   "version": "3.10.6"
  }
 },
 "nbformat": 4,
 "nbformat_minor": 5
}
